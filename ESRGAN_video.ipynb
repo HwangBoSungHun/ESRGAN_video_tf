{
  "nbformat": 4,
  "nbformat_minor": 0,
  "metadata": {
    "colab": {
      "name": "ESRGAN_video.ipynb",
      "provenance": [],
      "collapsed_sections": [],
      "toc_visible": true,
      "include_colab_link": true
    },
    "kernelspec": {
      "display_name": "Python 3",
      "name": "python3"
    },
    "accelerator": "GPU"
  },
  "cells": [
    {
      "cell_type": "markdown",
      "metadata": {
        "id": "view-in-github",
        "colab_type": "text"
      },
      "source": [
        "<a href=\"https://colab.research.google.com/github/HwangBoSungHun/ESRGAN_video_tf/blob/main/ESRGAN_video.ipynb\" target=\"_parent\"><img src=\"https://colab.research.google.com/assets/colab-badge.svg\" alt=\"Open In Colab\"/></a>"
      ]
    },
    {
      "cell_type": "code",
      "metadata": {
        "id": "lnyLTyUt0ukN"
      },
      "source": [
        "import os\n",
        "import time\n",
        "from PIL import Image\n",
        "import numpy as np\n",
        "import tensorflow as tf\n",
        "import tensorflow_hub as hub\n",
        "import matplotlib.pyplot as plt\n",
        "import cv2\n",
        "os.environ[\"TFHUB_DOWNLOAD_PROGRESS\"] = \"True\""
      ],
      "execution_count": null,
      "outputs": []
    },
    {
      "cell_type": "code",
      "metadata": {
        "colab": {
          "base_uri": "https://localhost:8080/"
        },
        "id": "Tsj1iPWqWb5s",
        "outputId": "01b8785f-38f4-4b6f-b033-30261fb664ba"
      },
      "source": [
        "from google.colab import drive\n",
        "drive.mount('/content/drive')"
      ],
      "execution_count": null,
      "outputs": [
        {
          "output_type": "stream",
          "text": [
            "Mounted at /content/drive\n"
          ],
          "name": "stdout"
        }
      ]
    },
    {
      "cell_type": "code",
      "metadata": {
        "colab": {
          "base_uri": "https://localhost:8080/"
        },
        "id": "z-mGB57iYMpj",
        "outputId": "388c12c6-74c0-4204-d859-967bbe7a5abc"
      },
      "source": [
        "SAVED_MODEL_PATH = \"https://tfhub.dev/captain-pool/esrgan-tf2/1\"\n",
        "model = hub.load(SAVED_MODEL_PATH)"
      ],
      "execution_count": null,
      "outputs": [
        {
          "output_type": "stream",
          "text": [
            "Downloaded https://tfhub.dev/captain-pool/esrgan-tf2/1, Total size: 20.60MB\n",
            "\n"
          ],
          "name": "stdout"
        }
      ]
    },
    {
      "cell_type": "code",
      "metadata": {
        "id": "V71vGwM0cmJt"
      },
      "source": [
        "video_path = '/content/drive/MyDrive/Colab Notebooks/ESRGAN/data/a_jewel_in_the_palace.mp4'\n",
        "lr_path = '/content/drive/MyDrive/Colab Notebooks/ESRGAN/outputs/lr.mp4'\n",
        "sr1_path = '/content/drive/MyDrive/Colab Notebooks/ESRGAN/outputs/sr1.mp4'\n",
        "sr2_path = '/content/drive/MyDrive/Colab Notebooks/ESRGAN/outputs/sr2.mp4'\n",
        "sec = 30 # 저장하고 싶은 영상 길이(30초 분량만 저장)"
      ],
      "execution_count": null,
      "outputs": []
    },
    {
      "cell_type": "code",
      "metadata": {
        "id": "5-yrdcY3WsGX"
      },
      "source": [
        "vid = cv2.VideoCapture(video_path)\n",
        "width = int(vid.get(cv2.CAP_PROP_FRAME_WIDTH))\n",
        "height = int(vid.get(cv2.CAP_PROP_FRAME_HEIGHT))\n",
        "fps = int(vid.get(cv2.CAP_PROP_FPS))\n",
        "codec = cv2.VideoWriter_fourcc(*'XVID')\n",
        "lr_out = cv2.VideoWriter(, codec, fps, (width//4, height//4)) # lr은 4배로 줄임\n",
        "sr1_out = cv2.VideoWriter(sr1_path, codec, fps, (width, height)) # lr에 ESRGAN 적용\n",
        "sr2_out = cv2.VideoWriter(sr2_path, codec, fps, (width*4, height*4)) # 원본 영상에 ESRGAN 적용(사이즈 4배로 커짐)"
      ],
      "execution_count": null,
      "outputs": []
    },
    {
      "cell_type": "code",
      "metadata": {
        "id": "jc87c9C-3uoj"
      },
      "source": [
        "def preprocess_image(hr_image):\n",
        "  if hr_image.shape[-1] == 4:\n",
        "    hr_image = hr_image[...,:-1]\n",
        "  hr_size = (tf.convert_to_tensor(hr_image.shape[:-1]) // 4) * 4  # height, width를 4의 배수가 되게 만듦\n",
        "  hr_image = tf.image.crop_to_bounding_box(hr_image, 0, 0, hr_size[0], hr_size[1])\n",
        "  hr_image = tf.cast(hr_image, tf.float32)\n",
        "  return tf.expand_dims(hr_image, 0)"
      ],
      "execution_count": null,
      "outputs": []
    },
    {
      "cell_type": "code",
      "metadata": {
        "id": "F6tMNtqy0ukq"
      },
      "source": [
        "# Defining helper functions\n",
        "def downscale_image(image):\n",
        "  \"\"\"\n",
        "      Scales down images using bicubic downsampling.\n",
        "      Args:\n",
        "          image: 3D or 4D tensor of preprocessed image\n",
        "  \"\"\"\n",
        "  image_size = []\n",
        "  if len(image.shape) == 3:\n",
        "    image_size = [image.shape[1], image.shape[0]]\n",
        "  else:\n",
        "    raise ValueError(\"Dimension mismatch. Can work only on single image.\")\n",
        "\n",
        "  image = tf.squeeze(\n",
        "      tf.cast(\n",
        "          tf.clip_by_value(image, 0, 255), tf.uint8))\n",
        "\n",
        "  lr_image = np.asarray(\n",
        "    Image.fromarray(image.numpy())\n",
        "    .resize([image_size[0] // 4, image_size[1] // 4],\n",
        "              Image.BICUBIC))\n",
        "\n",
        "  lr_image = tf.expand_dims(lr_image, 0)\n",
        "  lr_image = tf.cast(lr_image, tf.float32)\n",
        "  return lr_image"
      ],
      "execution_count": null,
      "outputs": []
    },
    {
      "cell_type": "code",
      "metadata": {
        "id": "ws6imXBZYZZ7"
      },
      "source": [
        "i = 0\n",
        "while True:\n",
        "    i = i + 1\n",
        "    if i % 10 == 0:\n",
        "        print(i)\n",
        "    if i > fps * sec: # (대장금 영상 29 fps) 30초 처리하는데 약 40분 걸림\n",
        "        break\n",
        "    ret, hr_image = vid.read()\n",
        "    if not(ret):\n",
        "        break\n",
        "    hr_image = cv2.cvtColor(hr_image, cv2.COLOR_BGR2RGB)\n",
        "    hr_image = preprocess_image(hr_image)\n",
        "    \n",
        "    # hr --> lr\n",
        "    lr_image = downscale_image(tf.squeeze(hr_image))\n",
        "\n",
        "    # lr --> sr1\n",
        "    sr1_image = model(lr_image)\n",
        "    sr1_image = tf.squeeze(sr1_image)\n",
        "    sr1_image = tf.clip_by_value(sr1_image, 0, 255)\n",
        "    sr1_image = tf.cast(sr1_image, tf.uint8).numpy()\n",
        "    sr1_image = cv2.cvtColor(sr1_image, cv2.COLOR_BGR2RGB)\n",
        "\n",
        "    # hr --> sr2\n",
        "    sr2_image = model(hr_image)\n",
        "    sr2_image = tf.squeeze(sr2_image)\n",
        "    sr2_image = tf.clip_by_value(sr2_image, 0, 255)\n",
        "    sr2_image = tf.cast(sr2_image, tf.uint8).numpy()\n",
        "    sr2_image = cv2.cvtColor(sr2_image, cv2.COLOR_BGR2RGB)\n",
        "\n",
        "    lr_image = tf.squeeze(lr_image)\n",
        "    lr_image = tf.clip_by_value(lr_image, 0, 255)\n",
        "    lr_image = tf.cast(lr_image, tf.uint8).numpy()\n",
        "    lr_image = cv2.cvtColor(lr_image, cv2.COLOR_BGR2RGB)\n",
        "\n",
        "    lr_out.write(lr_image)\n",
        "    sr1_out.write(sr1_image)\n",
        "    sr2_out.write(sr2_image)\n",
        "\n",
        "\n",
        "vid.release()\n",
        "lr_out.release()\n",
        "sr1_out.release()\n",
        "sr2_out.release()\n",
        "cv2.destroyAllWindows()"
      ],
      "execution_count": null,
      "outputs": []
    }
  ]
}